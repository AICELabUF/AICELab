{
 "cells": [
  {
   "cell_type": "code",
   "execution_count": 1,
   "metadata": {},
   "outputs": [],
   "source": [
    "import requests\n",
    "import time\n",
    "from bs4 import BeautifulSoup\n",
    "import json"
   ]
  },
  {
   "cell_type": "code",
   "execution_count": 253,
   "metadata": {},
   "outputs": [],
   "source": [
    "headers = {'user-agent':'Mozilla/5.0 (Windows NT 10.0; Win64; x64) AppleWebKit/537.36 (KHTML, like Gecko) Chrome/91.0.4472.114 Safari/537.36'}\n",
    "url = 'https://scholar.google.com/citations?hl=en&user=M_BRU-4AAAAJ&view_op=list_works&sortby=pubdate'"
   ]
  },
  {
   "cell_type": "code",
   "execution_count": 254,
   "metadata": {},
   "outputs": [],
   "source": [
    "response=requests.get(url,headers=headers)"
   ]
  },
  {
   "cell_type": "code",
   "execution_count": 255,
   "metadata": {},
   "outputs": [
    {
     "data": {
      "text/plain": [
       "<Response [200]>"
      ]
     },
     "execution_count": 255,
     "metadata": {},
     "output_type": "execute_result"
    }
   ],
   "source": [
    "response"
   ]
  },
  {
   "cell_type": "code",
   "execution_count": 256,
   "metadata": {},
   "outputs": [],
   "source": [
    "# this function for the getting inforamtion of the web page\n",
    "def get_paperinfo(paper_url):\n",
    "    #download the page\n",
    "    response=requests.get(url,headers=headers)\n",
    "\n",
    "    # check successful response\n",
    "    if response.status_code != 200:\n",
    "        print('Status code:', response.status_code)\n",
    "        raise Exception('Failed to fetch web page ')\n",
    "\n",
    "    #parse using beautiful soup\n",
    "    paper_doc = BeautifulSoup(response.text,'html.parser')\n",
    "\n",
    "    return paper_doc"
   ]
  },
  {
   "cell_type": "code",
   "execution_count": 257,
   "metadata": {},
   "outputs": [],
   "source": [
    "# this function for the extracting information of the tags\n",
    "def get_tags(doc):\n",
    "    paper_tag = doc.find_all(\"a\", {\"class\": \"gsc_a_at\"})\n",
    "    cite_tag = doc.select('[title=Cite] + a')\n",
    "    link_tag = doc.find_all('h3',{\"class\" : \"gs_rt\"})\n",
    "    author_tag = doc.find_all(\"div\", {\"class\": \"gs_gray\"})\n",
    "    return paper_tag,cite_tag,link_tag,author_tag"
   ]
  },
  {
   "cell_type": "code",
   "execution_count": 258,
   "metadata": {},
   "outputs": [],
   "source": [
    "# it will return the title of the paper\n",
    "def get_papertitle(paper_tag):\n",
    "    paper_names = []\n",
    "    for tag in paper_tag:\n",
    "        paper_names.append(tag.select('h3')[0].get_text())\n",
    "    return paper_names"
   ]
  },
  {
   "cell_type": "code",
   "execution_count": 259,
   "metadata": {},
   "outputs": [],
   "source": [
    "def get_article(author_tag,paper_tag):\n",
    "    journal_names=[]\n",
    "    journal_pages=[]\n",
    "    pub_years=[]\n",
    "    papers=[]\n",
    "    for i in range(len(author_tag)):\n",
    "    #     if i%2==0:\n",
    "    #         print()\n",
    "        if i%2==1:\n",
    "            pub_info=author_tag[i].text.split(',')\n",
    "            journal_name=pub_info[0].strip()\n",
    "            pub_year=pub_info[-1].strip()\n",
    "            if len(pub_info)==3:\n",
    "                journal_page=pub_info[-2].strip()\n",
    "            else:\n",
    "                journal_page=''\n",
    "            journal_names.append(journal_name)\n",
    "            journal_pages.append(journal_page)\n",
    "            pub_years.append(pub_year)\n",
    "\n",
    "    for idx in range(len(paper_tag)):\n",
    "        papers.append(paper_tag[idx].text.strip())\n",
    "    return journal_names,journal_pages,pub_years,papers"
   ]
  },
  {
   "cell_type": "code",
   "execution_count": 260,
   "metadata": {},
   "outputs": [],
   "source": [
    "paper_doc=get_paperinfo(url)\n",
    "paper_tag,cite_tag,link_tag,author_tag=get_tags(paper_doc)"
   ]
  },
  {
   "cell_type": "code",
   "execution_count": 261,
   "metadata": {},
   "outputs": [],
   "source": [
    "journal_names,journal_pages,pub_years,papers=get_article(author_tag,paper_tag)"
   ]
  },
  {
   "cell_type": "code",
   "execution_count": 265,
   "metadata": {},
   "outputs": [],
   "source": [
    "jourNames=[]\n",
    "jourPages=[]\n",
    "pubYears=[]\n",
    "Papers=[]\n",
    "for i in range (0,100,10):\n",
    "    # get url for the each page\n",
    "    url = \"https://scholar.google.com/citations?hl=en&user=M_BRU-4AAAAJ\".format(i)\n",
    "#     print(url)\n",
    "    # function for the get content of each page\n",
    "    doc = get_paperinfo(url)\n",
    "    \n",
    "    # function for the collecting tags\n",
    "    paper_tag,cite_tag,link_tag,author_tag = get_tags(doc)\n",
    "    \n",
    "    journal_names,journal_pages,pub_years,papers=get_article(author_tag,paper_tag)\n",
    "#     print(papers)\n",
    "#     print()\n",
    "    jourNames.extend(journal_names)\n",
    "    jourPages.extend(journal_pages)\n",
    "    pubYears.extend(pub_years)\n",
    "    Papers.extend(papers)\n",
    "    \n",
    "    # use sleep to avoid status code 429\n",
    "#     time.sleep(30)"
   ]
  },
  {
   "cell_type": "code",
   "execution_count": 9,
   "metadata": {},
   "outputs": [],
   "source": [
    "with open('data/Xing_SCIs.txt','r',encoding=\"utf8\") as file:\n",
    "    a=file.readlines()\n",
    "#     print(a)"
   ]
  },
  {
   "cell_type": "code",
   "execution_count": null,
   "metadata": {},
   "outputs": [],
   "source": []
  },
  {
   "cell_type": "code",
   "execution_count": 16,
   "metadata": {},
   "outputs": [],
   "source": [
    "articles=[]\n",
    "for i in range(len(a)):\n",
    "    if i%7==0:\n",
    "        tmp=a[i:i+7]\n",
    "        tmp=[t.strip() for t in tmp]\n",
    "        articles.append(tmp)\n",
    "#         print(tmp)\n",
    "#     print(a[i])\n",
    "#     print()\n",
    "#     print(a[i])"
   ]
  },
  {
   "cell_type": "code",
   "execution_count": 18,
   "metadata": {},
   "outputs": [],
   "source": [
    "with open('xingArticlesFull_updated.json', 'w') as outfile:\n",
    "    json.dump(articles, outfile)"
   ]
  },
  {
   "cell_type": "code",
   "execution_count": null,
   "metadata": {},
   "outputs": [],
   "source": []
  },
  {
   "cell_type": "code",
   "execution_count": 35,
   "metadata": {},
   "outputs": [],
   "source": [
    "with open('data/bookChapters.txt','r',encoding=\"utf8\") as file:\n",
    "    a=file.readlines()"
   ]
  },
  {
   "cell_type": "code",
   "execution_count": 36,
   "metadata": {},
   "outputs": [],
   "source": [
    "posters=[]\n",
    "for i in range(len(a)):\n",
    "    if i%4==0:\n",
    "        tmp=a[i:i+4]\n",
    "        tmp=[t.strip() for t in tmp]\n",
    "        posters.append(tmp)"
   ]
  },
  {
   "cell_type": "code",
   "execution_count": 37,
   "metadata": {},
   "outputs": [],
   "source": [
    "with open('posters.json', 'w') as outfile:\n",
    "    json.dump(posters, outfile)"
   ]
  },
  {
   "cell_type": "code",
   "execution_count": 38,
   "metadata": {},
   "outputs": [
    {
     "data": {
      "text/plain": [
       "[['Guo, Y., Xing, W., & H., Lee (in press).',\n",
       "  'Identifying students’ mechanistic explanations in textual responses to science questions with association rule mining.',\n",
       "  'In Proceedings of the 2015 International Conference on Data Mining (ICDM). Atlantic City, NJ: IEEE',\n",
       "  'pub/IEEE_ICDM_draft.pdf'],\n",
       " ['Xing, W., Kim, S. & Goggins, S. (2015).',\n",
       "  'Modeling performance in asynchronous CSCL: An exploration of social ability, collective efficacy and social interaction.',\n",
       "  'Exploring the Material Conditions of Learning: Proceedings of The Computer Supported Collaborative Learning (CSCL 2015), (Vol, pp. 276-283). Gothenburg, Sweden: International Society of the Learning Sciences.',\n",
       "  'pub/CSCL_2015_xing.pdf'],\n",
       " ['Xing, W., & Goggins, S. (2015).',\n",
       "  'Learning analytics in outer space:a Hidden Naive Bayes model for automatic student off-task behavior detection.',\n",
       "  \"In Proceedings of the Fifth International Conference on Learning Analytics And Knowledge - LAK'15 (pp. 176-183). New York, NY, USA: ACM.\",\n",
       "  'pub/LAK15_Xing.pdf'],\n",
       " ['B. Chen, X. Chen,& Xing, W.(2015).',\n",
       "  '\"Twitter Archeology\" of learning analytics and knowledge conferences',\n",
       "  \"In Proceedings of the Fifth International Conference on Learning Analytics And Knowledge - LAK'15 (pp. 340-349). New York, NY, USA: ACM.\",\n",
       "  'pub/lak15_Xing (2).pdf'],\n",
       " ['Xing, W., Wadholm, B., & Goggins, S. (2014).',\n",
       "  'Learning analytics in CSCL with a focus on assessment: An exploratory study of activity theory-informed cluster analysis.',\n",
       "  \"In Proceedings of the Fourth International Conference on Learning Analytics And Knowledge- LAK'14 (pp. 59-67). ACM. New York, NY, USA: ACM.\",\n",
       "  'pub/VMT_LAK_2014_Submit.pdf'],\n",
       " ['Xing, W., & Wu, Y. (2014).',\n",
       "  'Assessment intelligence in small group learning.',\n",
       "  'IADIS international conference on cognition and exploratory learning in the digital age (CELDA 2014) (pp. 47-54). Porto, Portugal: IADIS.',\n",
       "  ''],\n",
       " ['Xing, W., Guo, R., Richardson, B., & Kochtanek, T. (2014).',\n",
       "  'Google Analytics spatial data visualization: Thinking outside of the box.',\n",
       "  'In S. Yamamoto (Ed.), Human Interface and the Management of Information: Information and Knowledge Design and Evaluation (pp. 120-127). New York, NY: Springer. ISBN 978-3-319-07730-7.',\n",
       "  '10.1007/978-3-319-07731-4_12'],\n",
       " ['Xing, W., Guo, R., Lowrance, N., & Kochtanek, T. (2014).',\n",
       "  'Decision support based on time-series analytics: A cluster methodology.',\n",
       "  'In Human Interface and the Management of Information: Information and Knowledge in Applications and Services (pp. 217-225). New York, NY: Springer. ISBN 978-3-319-07862-5.',\n",
       "  '10.1007/978-3-319-07863-2_22']]"
      ]
     },
     "execution_count": 38,
     "metadata": {},
     "output_type": "execute_result"
    }
   ],
   "source": [
    "posters"
   ]
  },
  {
   "cell_type": "code",
   "execution_count": null,
   "metadata": {},
   "outputs": [],
   "source": []
  },
  {
   "cell_type": "code",
   "execution_count": 23,
   "metadata": {},
   "outputs": [
    {
     "data": {
      "text/plain": [
       "['Guo, Y., Xing, W., & H., Lee (in press).\\n',\n",
       " 'Identifying students’ mechanistic explanations in textual responses to science questions with association rule mining.\\n',\n",
       " 'In Proceedings of the 2015 International Conference on Data Mining (ICDM). Atlantic City, NJ: IEEE\\n',\n",
       " '\\n',\n",
       " 'Xing, W., Kim, S. & Goggins, S. (2015).\\n',\n",
       " 'Modeling performance in asynchronous CSCL: An exploration of social ability, collective efficacy and social interaction.\\n',\n",
       " 'Exploring the Material Conditions of Learning: Proceedings of The Computer Supported Collaborative Learning (CSCL 2015), (Vol, pp. 276-283). Gothenburg, Sweden: International Society of the Learning Sciences. \\n',\n",
       " '\\n',\n",
       " 'Xing, W., & Goggins, S. (2015).\\n',\n",
       " 'Learning analytics in outer space:a Hidden Naive Bayes model for automatic student off-task behavior detection.\\n',\n",
       " \"In Proceedings of the Fifth International Conference on Learning Analytics And Knowledge - LAK'15 (pp. 176-183). New York, NY, USA: ACM.\\n\",\n",
       " '10.1145/2723576.2723602 \\n',\n",
       " 'B. Chen, X. Chen,& Xing, W.(2015).\\n',\n",
       " '\"Twitter Archeology\" of learning analytics and knowledge conferences\\n',\n",
       " \"In Proceedings of the Fifth International Conference on Learning Analytics And Knowledge - LAK'15 (pp. 340-349). New York, NY, USA: ACM. \\n\",\n",
       " '10.1145/2723576.2723584\\n',\n",
       " 'Xing, W., Wadholm, B., & Goggins, S. (2014).\\n',\n",
       " 'Learning analytics in CSCL with a focus on assessment: An exploratory study of activity theory-informed cluster analysis.\\n',\n",
       " \"In Proceedings of the Fourth International Conference on Learning Analytics And Knowledge- LAK'14 (pp. 59-67). ACM. New York, NY, USA: ACM.\\n\",\n",
       " '10.1145/2567574.2567587\\n',\n",
       " 'Xing, W., & Wu, Y. (2014). \\n',\n",
       " 'Assessment intelligence in small group learning.\\n',\n",
       " 'IADIS international conference on cognition and exploratory learning in the digital age (CELDA 2014) (pp. 47-54). Porto, Portugal: IADIS. \\n',\n",
       " '\\n',\n",
       " 'Xing, W., Guo, R., Richardson, B., & Kochtanek, T. (2014). \\n',\n",
       " 'Google Analytics spatial data visualization: Thinking outside of the box. \\n',\n",
       " 'In S. Yamamoto (Ed.), Human Interface and the Management of Information: Information and Knowledge Design and Evaluation (pp. 120-127). New York, NY: Springer. ISBN 978-3-319-07730-7. \\n',\n",
       " '10.1007/978-3-319-07731-4_12\\n',\n",
       " 'Xing, W., Guo, R., Lowrance, N., & Kochtanek, T. (2014). \\n',\n",
       " 'Decision support based on time-series analytics: A cluster methodology.\\n',\n",
       " 'In Human Interface and the Management of Information: Information and Knowledge in Applications and Services (pp. 217-225). New York, NY: Springer. ISBN 978-3-319-07862-5.\\n',\n",
       " '10.1007/978-3-319-07863-2_22']"
      ]
     },
     "execution_count": 23,
     "metadata": {},
     "output_type": "execute_result"
    }
   ],
   "source": [
    "a"
   ]
  },
  {
   "cell_type": "code",
   "execution_count": null,
   "metadata": {},
   "outputs": [],
   "source": []
  }
 ],
 "metadata": {
  "kernelspec": {
   "display_name": "Python 3 (ipykernel)",
   "language": "python",
   "name": "python3"
  },
  "language_info": {
   "codemirror_mode": {
    "name": "ipython",
    "version": 3
   },
   "file_extension": ".py",
   "mimetype": "text/x-python",
   "name": "python",
   "nbconvert_exporter": "python",
   "pygments_lexer": "ipython3",
   "version": "3.9.7"
  }
 },
 "nbformat": 4,
 "nbformat_minor": 4
}
